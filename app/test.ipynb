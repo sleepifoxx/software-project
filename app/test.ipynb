{
 "cells": [
  {
   "cell_type": "code",
   "execution_count": 2,
   "metadata": {},
   "outputs": [
    {
     "name": "stdout",
     "output_type": "stream",
     "text": [
      "https://batdongsan.com.vn/cho-thue-can-ho-chung-cu-mini/p1?cIds=57\n"
     ]
    }
   ],
   "source": [
    "i = 1\n",
    "link_base = f\"https://batdongsan.com.vn/cho-thue-can-ho-chung-cu-mini/p{i}?cIds=57\"\n",
    "print(link_base)"
   ]
  }
 ],
 "metadata": {
  "kernelspec": {
   "display_name": "SE",
   "language": "python",
   "name": "python3"
  },
  "language_info": {
   "codemirror_mode": {
    "name": "ipython",
    "version": 3
   },
   "file_extension": ".py",
   "mimetype": "text/x-python",
   "name": "python",
   "nbconvert_exporter": "python",
   "pygments_lexer": "ipython3",
   "version": "3.12.3"
  }
 },
 "nbformat": 4,
 "nbformat_minor": 2
}
